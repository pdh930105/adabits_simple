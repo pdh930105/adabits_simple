{
 "cells": [
  {
   "cell_type": "code",
   "execution_count": 1,
   "metadata": {},
   "outputs": [],
   "source": [
    "import enum\n",
    "import torch\n",
    "import torch.nn as nn\n",
    "from options import Option\n",
    "from dataset import create_loader\n",
    "from collections import OrderedDict\n",
    "from models.quant_ops import q_k, QConv2d, set_option\n",
    "from torch.utils.tensorboard import SummaryWriter\n",
    "from log_utils import *\n",
    "\n",
    "import pandas as pd\n",
    "import pickle"
   ]
  },
  {
   "cell_type": "code",
   "execution_count": 2,
   "metadata": {},
   "outputs": [
    {
     "name": "stdout",
     "output_type": "stream",
     "text": [
      "/data/adabits/save_log/cifar100_resnet_cifar/log_cifar100_resnet_cifar_bs128_ep200_seed_3/ is exists\n",
      "load log path /data/adabits/save_log/cifar100_resnet_cifar/log_cifar100_resnet_cifar_bs128_ep200_seed_3/\n"
     ]
    }
   ],
   "source": [
    "option = Option(\"./cifar100.hocon\", \"test\")\n",
    "# 기존에 있는 log 를 불러오기 위해 log_override를 false로 하고 진행\n",
    "option.log_override=False\n",
    "option.set_save_path()"
   ]
  },
  {
   "cell_type": "code",
   "execution_count": 3,
   "metadata": {},
   "outputs": [],
   "source": [
    "import models\n",
    "model_names = sorted(name for name in models.__dict__\n",
    "                     if name.islower() and not name.startswith(\"__\")\n",
    "                     and callable(models.__dict__[name]))\n"
   ]
  },
  {
   "cell_type": "code",
   "execution_count": 4,
   "metadata": {},
   "outputs": [
    {
     "data": {
      "text/plain": [
       "False"
      ]
     },
     "execution_count": 4,
     "metadata": {},
     "output_type": "execute_result"
    }
   ],
   "source": [
    "callable(models.__dict__[\"quant_ops\"])"
   ]
  },
  {
   "cell_type": "code",
   "execution_count": 12,
   "metadata": {},
   "outputs": [],
   "source": [
    "writer = SummaryWriter()\n",
    "test_dict = {\"a\":1, \"b\":2, \"c\":3, \"aa\":5}\n",
    "sub_dict = {key:value for key, value in test_dict.items() if \"a\" in key}"
   ]
  },
  {
   "cell_type": "code",
   "execution_count": 15,
   "metadata": {},
   "outputs": [],
   "source": [
    "sub_dict.update({\"s\":5})"
   ]
  },
  {
   "cell_type": "code",
   "execution_count": 16,
   "metadata": {},
   "outputs": [
    {
     "data": {
      "text/plain": [
       "{'a': 1, 'aa': 5, 's': 5}"
      ]
     },
     "execution_count": 16,
     "metadata": {},
     "output_type": "execute_result"
    }
   ],
   "source": [
    "sub_dict"
   ]
  },
  {
   "cell_type": "code",
   "execution_count": 6,
   "metadata": {},
   "outputs": [
    {
     "ename": "AttributeError",
     "evalue": "type object 'Model' has no attribute 'OPTION'",
     "output_type": "error",
     "traceback": [
      "\u001b[0;31m---------------------------------------------------------------------------\u001b[0m",
      "\u001b[0;31mAttributeError\u001b[0m                            Traceback (most recent call last)",
      "\u001b[0;32m/tmp/ipykernel_21930/3600853801.py\u001b[0m in \u001b[0;36m<module>\u001b[0;34m\u001b[0m\n\u001b[0;32m----> 1\u001b[0;31m \u001b[0mmodels\u001b[0m\u001b[0;34m.\u001b[0m\u001b[0m__dict__\u001b[0m\u001b[0;34m[\u001b[0m\u001b[0mname\u001b[0m\u001b[0;34m]\u001b[0m\u001b[0;34m.\u001b[0m\u001b[0mOPTION\u001b[0m\u001b[0;34m\u001b[0m\u001b[0;34m\u001b[0m\u001b[0m\n\u001b[0m",
      "\u001b[0;31mAttributeError\u001b[0m: type object 'Model' has no attribute 'OPTION'"
     ]
    }
   ],
   "source": []
  },
  {
   "cell_type": "code",
   "execution_count": 3,
   "metadata": {},
   "outputs": [],
   "source": [
    "class Compare_BatchNorm_Precision(nn.Module):\n",
    "    # this is custom batchnorm different precision\n",
    "    # Considered https://github.com/ptrblck/pytorch_misc/blob/master/batch_norm_manual.py and rangeBN \n",
    "\n",
    "    def __init__(self, num_features, dim=1, momentum=0.9, affine=True, eps=1e-5, compute_type=torch.float16):\n",
    "        super(Compare_BatchNorm_Precision, self).__init__()\n",
    "        self.register_buffer('running_mean', torch.zeros(num_features))\n",
    "        self.register_buffer('running_var', torch.zeros(num_features))\n",
    "\n",
    "        self.momentum = momentum\n",
    "        self.dim = dim\n",
    "        self.eps = 1e-10\n",
    "        if affine:\n",
    "            self.bias = nn.Parameter(torch.Tensor(num_features))\n",
    "            self.weight = nn.Parameter(torch.Tensor(num_features))\n",
    "        self.compute_type = compute_type\n",
    "        self.eps = eps\n",
    "        self.reset_params()\n",
    "\n",
    "    def reset_params(self):\n",
    "        if self.weight is not None:\n",
    "            self.weight.data.uniform_()\n",
    "        if self.bias is not None:\n",
    "            self.bias.data.zero_()\n",
    "\n",
    "    def load_params(self, weight, bias, running_mean, running_var):\n",
    "        self.weight=weight\n",
    "        self.bias=bias\n",
    "        self.running_mean = running_mean\n",
    "        self.running_var = running_var\n",
    "        \n",
    "\n",
    "    def forward(self, x, inference=True):\n",
    "        x_ch = x.type(self.compute_type)        \n",
    "        if inference:\n",
    "            mean = self.running_mean\n",
    "            scale = self.running_var\n",
    "            mean_ch = self.running_mean.type(self.compute_type)\n",
    "            scale_ch = self.running_var.type(self.compute_type)\n",
    "\n",
    "            out = (x - mean.view(1, mean.size(0), 1, 1)) * \\\n",
    "                scale.view(1, scale.size(0), 1, 1)\n",
    "\n",
    "            out_ch = (x_ch - mean_ch.view(1, mean_ch.size(0), 1, 1)) * \\\n",
    "                scale_ch.view(1, scale_ch.size(0), 1, 1)\n",
    "\n",
    "\n",
    "        else:\n",
    "            c = x_ch.shape[1]\n",
    "            mean = x.transpose(0,1).reshape(c, -1).mean(dim=-1)\n",
    "            scale = x.transpose(0,1).reshape(c, -1).var(dim=-1, unbiased=False)\n",
    "            mean_ch = x_ch.transpose(0,1).reshape(c, -1).mean(dim=-1)\n",
    "            scale_ch = x_ch.transpose(0,1).reshape(c, -1).var(dim=-1, unbiased=False)\n",
    "\n",
    "            out = (x - mean.view(1, mean.size(0), 1, 1)) * \\\n",
    "                torch.sqrt(scale.view(1, scale.size(0), 1, 1) + self.eps)\n",
    "\n",
    "            out_ch = (x_ch - mean_ch.view(1, mean_ch.size(0), 1, 1)) * \\\n",
    "                torch.sqrt(scale_ch.view(1, scale.size(0), 1, 1) + self.eps.type(self.compute_type))\n",
    "        \n",
    "        if self.weight is not None:\n",
    "            \n",
    "            weight = self.weight\n",
    "            weight_ch = self.weight.type(self.compute_type)\n",
    "            out = out * weight.view(1, weight.size(0), 1, 1)\n",
    "            out_ch = out_ch * weight_ch.view(1, weight_ch.size(0), 1, 1)\n",
    "\n",
    "        if self.bias is not None:\n",
    "            bias =self.bias\n",
    "            out = out * bias.view(1, bias.size(0), 1, 1)\n",
    "            bias_ch = self.bias.type(self.compute_type)\n",
    "            out_ch = out_ch * bias_ch.view(1, bias_ch.size(0), 1, 1)\n",
    "\n",
    "        return out, out_ch"
   ]
  },
  {
   "cell_type": "code",
   "execution_count": 4,
   "metadata": {},
   "outputs": [],
   "source": []
  },
  {
   "cell_type": "code",
   "execution_count": null,
   "metadata": {},
   "outputs": [],
   "source": []
  }
 ],
 "metadata": {
  "interpreter": {
   "hash": "d4d1e4263499bec80672ea0156c357c1ee493ec2b1c70f0acce89fc37c4a6abe"
  },
  "kernelspec": {
   "display_name": "Python 3.8.12 ('base')",
   "language": "python",
   "name": "python3"
  },
  "language_info": {
   "codemirror_mode": {
    "name": "ipython",
    "version": 3
   },
   "file_extension": ".py",
   "mimetype": "text/x-python",
   "name": "python",
   "nbconvert_exporter": "python",
   "pygments_lexer": "ipython3",
   "version": "3.8.12"
  },
  "orig_nbformat": 4
 },
 "nbformat": 4,
 "nbformat_minor": 2
}
